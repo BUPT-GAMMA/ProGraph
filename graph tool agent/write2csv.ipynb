{
 "cells": [
  {
   "cell_type": "markdown",
   "metadata": {},
   "source": []
  },
  {
   "cell_type": "code",
   "execution_count": 4,
   "metadata": {},
   "outputs": [
    {
     "name": "stdout",
     "output_type": "stream",
     "text": [
      "IGRAPH D--- 3 4 --\n",
      "+ edges:\n",
      "0->1 1->2 1->0 2->1\n",
      "\n",
      "Biconnected Components:\n",
      "[3, 4, 5]\n",
      "[2, 3]\n",
      "[0, 1, 2]\n",
      "\n",
      "Articulation Points: [2, 3]\n",
      "\n",
      "(3, 2, 4, 3)\n",
      "\n",
      "Clustering with 7 elements and 2 clusters\n",
      "[0] 0, 1, 2, 3, 4\n",
      "[1] 5, 6\n",
      "\n",
      "Degree distribution: N = 6, mean +- sd: 2.3333 +- 0.5164\n",
      "[2, 3): **** (4)\n",
      "[3, 4): ** (2)\n",
      "\n",
      "[0, 2, 3, 4, 5, 1]\n",
      "[-1, 0, 2, 3, 4, 0]\n",
      "\n",
      "1 mutual, 2 asymmetric, 3 null dyads\n",
      "\n",
      "IGRAPH U--- 4 3 --\n",
      "+ attr: capacity (e), flow (e)\n",
      "+ edges:\n",
      "1--2 0--2 2--3\n",
      "Edge: 1-2, Flow: 35.0\n",
      "Edge: 0-2, Flow: 20.0\n",
      "Edge: 2-3, Flow: 20.0\n",
      "\n",
      "[1, 2, 1, 2, 0]\n",
      "\n",
      "Edges of the intersection graph: [(2, 3), (1, 2)]\n",
      "\n",
      "20.0\n",
      "\n",
      "[3, 4, 5, 0, 1, 2]\n",
      "\n",
      "[3, 4]\n",
      "\n",
      "0.3673469387755103\n",
      "\n",
      "[0.166948353882221, 0.2142503874821836, 0.31421689655978124, 0.3045843620758141]\n",
      "\n",
      "Second partition: [0, 1, 3]\n",
      "\n",
      "0.7777777777777778\n",
      "\n",
      "(0, 0, 0, 0, 0, 2, 0, 0, 1, 1, 0, 0, 0, 0, 0, 0)\n",
      "\n",
      "[1, 2]\n",
      "\n",
      "([[1, 0, 0], [0, 1, 0], [0, 0, 1]], [0, 1, 2], [3, 4, 5])\n",
      "\n",
      "Vertices in the 2-core: []\n",
      "Edges in the 2-core: []\n",
      "\n"
     ]
    }
   ],
   "source": [
    "import json\n",
    "import csv\n",
    "import csv\n",
    "\n",
    "# Read the notebook file\n",
    "with open('igraph/igraph_cases.ipynb', 'r') as file:\n",
    "    notebook = json.load(file)\n",
    "\n",
    "# Extract text and code blocks\n",
    "questions = []\n",
    "codes = []\n",
    "results = []\n",
    "for cell in notebook['cells']:\n",
    "    if cell['cell_type'] == 'markdown':\n",
    "        text = ''.join(cell['source'])\n",
    "        if not text.strip().startswith('###'):\n",
    "            questions.append(text.strip())\n",
    "    elif cell['cell_type'] == 'code':\n",
    "        code = ''.join(cell['source'])\n",
    "        codes.append(code.strip())\n",
    "        if 'outputs' in cell and cell['outputs']:\n",
    "            if 'text' in cell['outputs'][0] and cell['outputs'][0]['text']:\n",
    "                # print(cell['outputs'])\n",
    "                # print(cell['outputs'][0]['text'][0])\n",
    "                text_str = cell['outputs'][0]['text']\n",
    "                result = ''.join(text_str)\n",
    "                print(result)\n",
    "                # result = cell['outputs'][0]['text'][0]\n",
    "                results.append(result)\n",
    "            else:\n",
    "                print('\\n')\n",
    "                result = ''\n",
    "                results.append(result)\n",
    "        else:\n",
    "                print('\\n')\n",
    "                result = ''\n",
    "                results.append(result)\n",
    "        if len(results) != len(codes):\n",
    "            print('ERROR')\n",
    "            break"
   ]
  },
  {
   "cell_type": "code",
   "execution_count": 5,
   "metadata": {},
   "outputs": [
    {
     "name": "stdout",
     "output_type": "stream",
     "text": [
      "21\n",
      "21\n",
      "21\n"
     ]
    }
   ],
   "source": [
    "print(len(questions))\n",
    "print(len(codes))\n",
    "print(len(results))"
   ]
  },
  {
   "cell_type": "code",
   "execution_count": 6,
   "metadata": {},
   "outputs": [],
   "source": [
    "# Create a list of dictionaries with empty values for 'Answers', 'Note', and 'Function'\n",
    "data = [{'Questions': question, 'Answers': result, 'Codes': code, 'Note': '', 'Function': ''} for question, code, result in zip(questions, codes, results)]\n",
    "\n",
    "# Save the data in a CSV file\n",
    "with open('igraph/igraph_cases_79.csv', 'a', newline='', encoding='utf-8') as file:\n",
    "    fieldnames = ['Questions', 'Answers', 'Codes', 'Note', 'Function']\n",
    "    writer = csv.DictWriter(file, fieldnames=fieldnames)\n",
    "    writer.writeheader()\n",
    "    writer.writerows(data)\n",
    "    \n"
   ]
  },
  {
   "cell_type": "code",
   "execution_count": 7,
   "metadata": {},
   "outputs": [
    {
     "name": "stdout",
     "output_type": "stream",
     "text": [
      "Number of rows in igraph_cases_79.csv: 102\n"
     ]
    }
   ],
   "source": [
    "import csv\n",
    "\n",
    "# Count the number of rows in the CSV file\n",
    "with open('igraph/igraph_cases_79.csv', 'r', encoding='utf-8') as file:\n",
    "    reader = csv.reader(file)\n",
    "    row_count = sum(1 for row in reader)\n",
    "\n",
    "print(\"Number of rows in igraph_cases_79.csv:\", row_count)\n"
   ]
  }
 ],
 "metadata": {
  "kernelspec": {
   "display_name": "py38",
   "language": "python",
   "name": "python3"
  },
  "language_info": {
   "codemirror_mode": {
    "name": "ipython",
    "version": 3
   },
   "file_extension": ".py",
   "mimetype": "text/x-python",
   "name": "python",
   "nbconvert_exporter": "python",
   "pygments_lexer": "ipython3",
   "version": "3.11.8"
  }
 },
 "nbformat": 4,
 "nbformat_minor": 2
}
